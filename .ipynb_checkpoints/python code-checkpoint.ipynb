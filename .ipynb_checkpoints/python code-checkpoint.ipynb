{
 "cells": [
  {
   "cell_type": "code",
   "execution_count": 1,
   "id": "97ce16e3-037c-4eb8-84fa-a6f735df5ec8",
   "metadata": {},
   "outputs": [
    {
     "name": "stdout",
     "output_type": "stream",
     "text": [
      "Enter start year: 2000\n",
      "Enter end year: 2020\n",
      "Number of Sundays falling on the first of the month: 37\n"
     ]
    }
   ],
   "source": [
    "import datetime\n",
    "\n",
    "def count_sundays(start_year, end_year):\n",
    "    sundays = 0\n",
    "    for year in range(start_year, end_year + 1):\n",
    "        for month in range(1, 13):\n",
    "            # Check if the first day of the month is a Sunday\n",
    "            if datetime.date(year, month, 1).weekday() == 6:\n",
    "                sundays += 1\n",
    "    return sundays\n",
    "\n",
    "# Input time window\n",
    "start_year = int(input(\"Enter start year: \"))\n",
    "end_year = int(input(\"Enter end year: \"))\n",
    "\n",
    "# Count Sundays falling on the first of the month\n",
    "sunday_count = count_sundays(start_year, end_year)\n",
    "print(\"Number of Sundays falling on the first of the month:\", sunday_count)"
   ]
  },
  {
   "cell_type": "code",
   "execution_count": null,
   "id": "973ca937",
   "metadata": {},
   "outputs": [],
   "source": []
  }
 ],
 "metadata": {
  "kernelspec": {
   "display_name": "Python 3 (ipykernel)",
   "language": "python",
   "name": "python3"
  },
  "language_info": {
   "codemirror_mode": {
    "name": "ipython",
    "version": 3
   },
   "file_extension": ".py",
   "mimetype": "text/x-python",
   "name": "python",
   "nbconvert_exporter": "python",
   "pygments_lexer": "ipython3",
   "version": "3.11.5"
  }
 },
 "nbformat": 4,
 "nbformat_minor": 5
}
