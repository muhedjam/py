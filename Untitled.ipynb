{
 "cells": [
  {
   "cell_type": "code",
   "execution_count": 1,
   "id": "17303c17-6fc2-48f0-9d6d-0515f32239eb",
   "metadata": {},
   "outputs": [
    {
     "name": "stdout",
     "output_type": "stream",
     "text": [
      "171\n"
     ]
    }
   ],
   "source": [
    "import datetime\n",
    "\n",
    "def count_sundays():\n",
    "    sundays = 0\n",
    "    for year in range(1901, 2001):\n",
    "        for month in range(1, 13):\n",
    "            if datetime.date(year, month, 1).weekday() == 6:  # Sunday is 6\n",
    "                sundays += 1\n",
    "    return sundays\n",
    "\n",
    "print(count_sundays())\n"
   ]
  },
  {
   "cell_type": "code",
   "execution_count": null,
   "id": "97ce16e3-037c-4eb8-84fa-a6f735df5ec8",
   "metadata": {},
   "outputs": [],
   "source": []
  }
 ],
 "metadata": {
  "kernelspec": {
   "display_name": "Python 3 (ipykernel)",
   "language": "python",
   "name": "python3"
  },
  "language_info": {
   "codemirror_mode": {
    "name": "ipython",
    "version": 3
   },
   "file_extension": ".py",
   "mimetype": "text/x-python",
   "name": "python",
   "nbconvert_exporter": "python",
   "pygments_lexer": "ipython3",
   "version": "3.11.7"
  }
 },
 "nbformat": 4,
 "nbformat_minor": 5
}
